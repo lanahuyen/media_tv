{
 "cells": [
  {
   "cell_type": "code",
   "execution_count": 3,
   "id": "e3c037b4-90a2-4b68-831e-ecb9608cef6a",
   "metadata": {},
   "outputs": [],
   "source": [
    "import pandas as pd\n",
    "import numpy as np"
   ]
  },
  {
   "cell_type": "code",
   "execution_count": 4,
   "id": "7126a464-097a-4af6-947a-f6e100a694bb",
   "metadata": {},
   "outputs": [],
   "source": [
    "def clean_data(df):\n",
    "    # Drop duplicates\n",
    "    df = df.drop_duplicates()\n",
    "    # Drop rows with all NaN values\n",
    "    df = df.dropna(how='all')\n",
    "    # Fill NaN with placeholder or mean/median if numeric\n",
    "    df = df.fillna('Unknown')  # Adjust based on context\n",
    "    # Standardize column names: lowercase, replace spaces with underscores\n",
    "    df.columns = df.columns.str.strip().str.lower().str.replace(' ', '_')\n",
    "    return df"
   ]
  },
  {
   "cell_type": "code",
   "execution_count": 5,
   "id": "c40f8e77-7e16-4205-9a18-eb3b06549110",
   "metadata": {},
   "outputs": [],
   "source": [
    "# Load datasets with different encoding\n",
    "amazon_prime_titles = pd.read_csv('data/amazon_prime_titles.csv', encoding='latin1')\n",
    "disney_all_content = pd.read_csv('data/disney_all_content.csv', encoding='latin1')\n",
    "disney_plus_titles = pd.read_csv('data/disney_plus_titles.csv', encoding='latin1')\n",
    "hulu_all_content = pd.read_csv('data/hulu_all_content.csv', encoding='latin1')\n",
    "hulu_titles = pd.read_csv('data/hulu_titles.csv', encoding='latin1')\n",
    "netflix_all_content = pd.read_csv('data/netflix_all_content.csv', encoding='latin1')\n",
    "netflix_titles_2 = pd.read_csv('data/netflix_titles 2.csv', encoding='latin1')\n",
    "movies_on_streaming = pd.read_csv('data/MoviesOnStreamingPlatforms.csv', encoding='latin1')\n",
    "prime_all_content = pd.read_csv('data/prime_all_content.csv', encoding='latin1')\n",
    "\n",
    "# Clean datasets\n",
    "amazon_prime_titles_clean = clean_data(amazon_prime_titles)\n",
    "disney_all_content_clean = clean_data(disney_all_content)\n",
    "disney_plus_titles_clean = clean_data(disney_plus_titles)\n",
    "hulu_all_content_clean = clean_data(hulu_all_content)\n",
    "hulu_titles_clean = clean_data(hulu_titles)\n",
    "netflix_all_content_clean = clean_data(netflix_all_content)\n",
    "netflix_titles_clean = clean_data(netflix_titles)\n",
    "netflix_titles_2_clean = clean_data(netflix_titles_2)\n",
    "movies_on_streaming_clean = clean_data(movies_on_streaming)\n",
    "prime_all_content_clean = clean_data(prime_all_content)\n",
    "\n",
    "# Combine into one DataFrame\n",
    "streaming_content = pd.concat([\n",
    "    amazon_prime_titles_clean, disney_all_content_clean, disney_plus_titles_clean,\n",
    "    hulu_all_content_clean, hulu_titles_clean, netflix_all_content_clean,\n",
    "    netflix_titles_clean, netflix_titles_2_clean, movies_on_streaming_clean,\n",
    "    prime_all_content_clean\n",
    "], ignore_index=True)\n",
    "\n",
    "# Save the cleaned and combined streaming content\n",
    "streaming_content.to_csv('data/cleaned_streaming_content.csv', index=False)"
   ]
  },
  {
   "cell_type": "code",
   "execution_count": 6,
   "id": "27d2fa70-eea1-4d25-933d-6f375f7f1828",
   "metadata": {},
   "outputs": [],
   "source": [
    "# Load datasets\n",
    "all_services_price_history = pd.read_csv('data/all_services_price_history.csv', encoding='latin1')\n",
    "top_services_price_history = pd.read_csv('data/top_services_price_history.csv', encoding='latin1')\n",
    "netflix_dataset = pd.read_csv('data/Netflix Dataset.csv', encoding='latin1')\n",
    "netflix_userbase = pd.read_csv('data/Netflix Userbase.csv', encoding='latin1')\n",
    "\n",
    "# Clean datasets\n",
    "all_services_price_history_clean = clean_data(all_services_price_history)\n",
    "top_services_price_history_clean = clean_data(top_services_price_history)\n",
    "netflix_dataset_clean = clean_data(netflix_dataset)\n",
    "netflix_userbase_clean = clean_data(netflix_userbase)\n",
    "\n",
    "# Save cleaned pricing and subscription data\n",
    "all_services_price_history_clean.to_csv('data/cleaned_all_services_price_history.csv', index=False)\n",
    "top_services_price_history_clean.to_csv('data/cleaned_top_services_price_history.csv', index=False)\n",
    "netflix_dataset_clean.to_csv('data/cleaned_netflix_dataset.csv', index=False)\n",
    "netflix_userbase_clean.to_csv('data/cleaned_netflix_userbase.csv', index=False)"
   ]
  },
  {
   "cell_type": "code",
   "execution_count": 7,
   "id": "879df5aa-c808-4ab5-bcd1-c39f1765970f",
   "metadata": {},
   "outputs": [],
   "source": [
    "# Load datasets\n",
    "imdb_data = pd.read_csv('data/imdb_data.csv', encoding='latin1')\n",
    "imdb_movies_dataset = pd.read_csv('data/imdb-movies-dataset.csv', encoding='latin1')\n",
    "title_principals = pd.read_csv('data/title.principals.tsv', sep='\\t', encoding='latin1', nrows=50000)\n",
    "title_ratings = pd.read_csv('data/title.ratings.tsv', sep='\\t', encoding='latin1', nrows=50000)\n",
    "\n",
    "# Clean datasets\n",
    "imdb_data_clean = clean_data(imdb_data)\n",
    "imdb_movies_dataset_clean = clean_data(imdb_movies_dataset)\n",
    "title_principals_clean = clean_data(title_principals)\n",
    "title_ratings_clean = clean_data(title_ratings)\n",
    "\n",
    "# Save cleaned IMDb data\n",
    "imdb_data_clean.to_csv('data/cleaned_imdb_data.csv', index=False)\n",
    "imdb_movies_dataset_clean.to_csv('data/cleaned_imdb_movies_dataset.csv', index=False)\n",
    "title_principals_clean.to_csv('data/cleaned_title_principals.csv', index=False)\n",
    "title_ratings_clean.to_csv('data/cleaned_title_ratings.csv', index=False)"
   ]
  },
  {
   "cell_type": "code",
   "execution_count": 9,
   "id": "70f4341d-cedd-4c8f-9588-c028ff7629f1",
   "metadata": {},
   "outputs": [],
   "source": [
    "# Load datasets\n",
    "top_services_all_content = pd.read_csv('data/top_services_all_content.csv', encoding='latin1')\n",
    "top_services_movies = pd.read_csv('data/top_services_movies.csv', encoding='latin1')\n",
    "top_services_tv = pd.read_csv('data/top_services_tv.csv', encoding='latin1')\n",
    "\n",
    "# Clean datasets\n",
    "top_services_all_content_clean = clean_data(top_services_all_content)\n",
    "top_services_movies_clean = clean_data(top_services_movies)\n",
    "top_services_tv_clean = clean_data(top_services_tv)\n",
    "\n",
    "# Save cleaned service data\n",
    "top_services_all_content_clean.to_csv('data/cleaned_top_services_all_content.csv', index=False)\n",
    "top_services_movies_clean.to_csv('data/cleaned_top_services_movies.csv', index=False)\n",
    "top_services_tv_clean.to_csv('data/cleaned_top_services_tv.csv', index=False)"
   ]
  },
  {
   "cell_type": "code",
   "execution_count": null,
   "id": "a60ad9c8-3336-475f-9193-799f6e5c849e",
   "metadata": {},
   "outputs": [],
   "source": [
    "# Load datasets\n",
    "tv_shows = pd.read_csv('data/tv_shows.csv', encoding='latin1')\n",
    "movies = pd.read_csv('data/movies.csv', encoding='latin1')\n",
    "top_services_tv = pd.read_csv('data/top_services_tv.csv', encoding='latin1')\n",
    "\n",
    "# Preview the data\n",
    "print(tv_shows.head())\n",
    "print(movies.head())\n",
    "print(top_services_tv.head())\n",
    "\n",
    "# Cleaning data (example - can vary based on inspection)\n",
    "tv_shows_clean = tv_shows.dropna().reset_index(drop=True)\n",
    "movies_clean = movies.dropna().reset_index(drop=True)\n",
    "top_services_tv_clean = top_services_tv.dropna().reset_index(drop=True)\n",
    "\n",
    "# Standardizing column names\n",
    "tv_shows_clean.columns = [col.strip().lower().replace(' ', '_') for col in tv_shows_clean.columns]\n",
    "movies_clean.columns = [col.strip().lower().replace(' ', '_') for col in movies_clean.columns]\n",
    "top_services_tv_clean.columns = [col.strip().lower().replace(' ', '_') for col in top_services_tv_clean.columns]\n",
    "\n",
    "# Further cleaning as needed"
   ]
  }
 ],
 "metadata": {
  "kernelspec": {
   "display_name": "Python 3 (ipykernel)",
   "language": "python",
   "name": "python3"
  },
  "language_info": {
   "codemirror_mode": {
    "name": "ipython",
    "version": 3
   },
   "file_extension": ".py",
   "mimetype": "text/x-python",
   "name": "python",
   "nbconvert_exporter": "python",
   "pygments_lexer": "ipython3",
   "version": "3.10.14"
  }
 },
 "nbformat": 4,
 "nbformat_minor": 5
}
