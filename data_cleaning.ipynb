{
 "cells": [
  {
   "cell_type": "code",
   "execution_count": 41,
   "id": "b85057b9-1435-4b40-820f-882e9eb4d759",
   "metadata": {},
   "outputs": [
    {
     "name": "stdout",
     "output_type": "stream",
     "text": [
      "['imdb_data.csv', 'cleaned_AmazonPrimeTitles.csv', 'tv_shows.csv', 'cabel_tv_db.json', 'cleaned_MoviesOnStreamingPlatforms.csv', 'top_services_all_content.csv', 'imdb-movies-dataset.csv', 'title.ratings.tsv', 'hulu_titles.csv', '.DS_Store', 'cleaned_NetflixTVShowsMovies.csv', 'data_cleaning.ipynb', 'Netflix Userbase.csv', 'cleaned_NetflixDataset.csv', 'top_services_movies.csv', 'streaming_pricing_db.json', 'cleaned_HuluTitles.csv', 'price_history.csv', 'MoviesOnStreamingPlatforms.csv', 'netflix_titles 2.csv', 'cleaned_IMDbRatings.tsv', 'all_services_price_history.csv', 'cleaned_IMDbMovies.csv', 'DS_Store', 'netflix_all_content.csv', 'disney_all_content.csv', 'amazon_prime_titles.csv', 'cleaned_DisneyPlusTitles.csv', 'hulu_all_content.csv', 'prime_all_content.csv', 'Netflix TV Shows and Movies.csv', 'cleaned_NetflixUserbase.csv', 'movies.csv', 'top_services_price_history.csv', 'cleaned_AllServicesPriceHistory.csv', 'Netflix Dataset.csv', 'data_cleaning-checkpoint (1).ipynb', 'cleaned_NetflixTitles2.csv', 'top_services_tv.csv', 'disney_plus_titles.csv', 'netflix_titles.csv', 'streaming_content_db.json']\n"
     ]
    }
   ],
   "source": [
    "import os\n",
    "\n",
    "print(os.listdir('data'))  # Replace 'data' with the directory you want to check"
   ]
  },
  {
   "cell_type": "code",
   "execution_count": 42,
   "id": "ebd0552f-b48c-4936-95ed-f2904e089bb4",
   "metadata": {},
   "outputs": [],
   "source": [
    "import pandas as pd\n",
    "import numpy as np\n",
    "\n",
    "# Load datasets\n",
    "movies_df = pd.read_csv('data/MoviesOnStreamingPlatforms.csv', encoding='latin1')\n",
    "netflix_df = pd.read_csv('data/Netflix Dataset.csv', encoding='latin1')\n",
    "netflix_tv_df = pd.read_csv('data/Netflix TV Shows and Movies.csv',encoding='latin1')\n",
    "netflix_userbase_df = pd.read_csv('data/Netflix Userbase.csv', encoding='latin1')\n",
    "all_services_price_history_df = pd.read_csv('data/all_services_price_history.csv', encoding='latin1')\n",
    "amazon_prime_df = pd.read_csv('data/amazon_prime_titles.csv', encoding='latin1')\n",
    "disney_plus_df = pd.read_csv('data/disney_plus_titles.csv', encoding='latin1')\n",
    "hulu_df = pd.read_csv('data/hulu_titles.csv', encoding='latin1')\n",
    "imdb_movies_df = pd.read_csv('data/imdb-movies-dataset.csv', encoding='latin1')\n",
    "imdb_ratings_df = pd.read_csv('data/title.ratings.tsv', sep='\\t',encoding='latin1', nrows=50000)  # TSV file\n",
    "netflix_titles_df = pd.read_csv('data/netflix_titles 2.csv', encoding='latin1')\n"
   ]
  },
  {
   "cell_type": "code",
   "execution_count": 43,
   "id": "b55dcf17-4102-4116-b275-372930a69bff",
   "metadata": {
    "scrolled": true
   },
   "outputs": [
    {
     "name": "stderr",
     "output_type": "stream",
     "text": [
      "/var/folders/6p/h0sr07r51_qcbxx4mdpg2cc80000gn/T/ipykernel_82292/4107238997.py:5: FutureWarning: A value is trying to be set on a copy of a DataFrame or Series through chained assignment using an inplace method.\n",
      "The behavior will change in pandas 3.0. This inplace method will never work because the intermediate object on which we are setting values always behaves as a copy.\n",
      "\n",
      "For example, when doing 'df[col].method(value, inplace=True)', try using 'df.method({col: value}, inplace=True)' or df[col] = df[col].method(value) instead, to perform the operation inplace on the original object.\n",
      "\n",
      "\n",
      "  movies_df['Age'].fillna('Not Rated', inplace=True)\n"
     ]
    }
   ],
   "source": [
    "# Convert \"Rotten Tomatoes\" to numeric\n",
    "movies_df['Rotten Tomatoes'] = movies_df['Rotten Tomatoes'].str.replace('/100', '').astype(float)\n",
    "\n",
    "# Standardize \"Age\" ratings (e.g., replace nulls with \"Not Rated\")\n",
    "movies_df['Age'].fillna('Not Rated', inplace=True)\n",
    "\n",
    "# Drop irrelevant columns\n",
    "movies_df.drop(columns=['ID', 'Type'], inplace=True)"
   ]
  },
  {
   "cell_type": "code",
   "execution_count": 44,
   "id": "34430de3-5103-4566-94be-053fd7278c8d",
   "metadata": {},
   "outputs": [],
   "source": [
    "# Convert date to datetime format\n",
    "netflix_df['Date'] = pd.to_datetime(netflix_df['Date'])\n",
    "\n",
    "# Drop unnecessary columns\n",
    "netflix_df.drop(columns=['Open', 'High', 'Low', 'Adj Close', 'Volume'], inplace=True)"
   ]
  },
  {
   "cell_type": "code",
   "execution_count": 45,
   "id": "30221d7b-763c-4cf5-8552-2e9ca160dd64",
   "metadata": {},
   "outputs": [],
   "source": [
    "# Convert \"imdb_score\" to numeric\n",
    "netflix_tv_df['imdb_score'] = pd.to_numeric(netflix_tv_df['imdb_score'], errors='coerce')\n",
    "\n",
    "# Drop rows with missing titles\n",
    "netflix_tv_df.dropna(subset=['title'], inplace=True)"
   ]
  },
  {
   "cell_type": "code",
   "execution_count": 46,
   "id": "34cd186f-a9cc-4881-8b7a-e5f2bfba1e3e",
   "metadata": {},
   "outputs": [
    {
     "name": "stderr",
     "output_type": "stream",
     "text": [
      "/var/folders/6p/h0sr07r51_qcbxx4mdpg2cc80000gn/T/ipykernel_82292/2060075309.py:2: UserWarning: Could not infer format, so each element will be parsed individually, falling back to `dateutil`. To ensure parsing is consistent and as-expected, please specify a format.\n",
      "  netflix_userbase_df['Join Date'] = pd.to_datetime(netflix_userbase_df['Join Date'], errors='coerce')\n",
      "/var/folders/6p/h0sr07r51_qcbxx4mdpg2cc80000gn/T/ipykernel_82292/2060075309.py:3: UserWarning: Could not infer format, so each element will be parsed individually, falling back to `dateutil`. To ensure parsing is consistent and as-expected, please specify a format.\n",
      "  netflix_userbase_df['Last Payment Date'] = pd.to_datetime(netflix_userbase_df['Last Payment Date'], errors='coerce')\n",
      "/var/folders/6p/h0sr07r51_qcbxx4mdpg2cc80000gn/T/ipykernel_82292/2060075309.py:9: FutureWarning: A value is trying to be set on a copy of a DataFrame or Series through chained assignment using an inplace method.\n",
      "The behavior will change in pandas 3.0. This inplace method will never work because the intermediate object on which we are setting values always behaves as a copy.\n",
      "\n",
      "For example, when doing 'df[col].method(value, inplace=True)', try using 'df.method({col: value}, inplace=True)' or df[col] = df[col].method(value) instead, to perform the operation inplace on the original object.\n",
      "\n",
      "\n",
      "  netflix_userbase_df['Country'].fillna('Unknown', inplace=True)\n"
     ]
    }
   ],
   "source": [
    "# Convert date columns to datetime\n",
    "netflix_userbase_df['Join Date'] = pd.to_datetime(netflix_userbase_df['Join Date'], errors='coerce')\n",
    "netflix_userbase_df['Last Payment Date'] = pd.to_datetime(netflix_userbase_df['Last Payment Date'], errors='coerce')\n",
    "\n",
    "# Ensure \"Monthly Revenue\" is numeric\n",
    "netflix_userbase_df['Monthly Revenue'] = pd.to_numeric(netflix_userbase_df['Monthly Revenue'], errors='coerce')\n",
    "\n",
    "# Clean \"Country\" column\n",
    "netflix_userbase_df['Country'].fillna('Unknown', inplace=True)"
   ]
  },
  {
   "cell_type": "code",
   "execution_count": 47,
   "id": "a30c8130-b815-4d31-9e4c-02a28d21bff9",
   "metadata": {},
   "outputs": [
    {
     "name": "stderr",
     "output_type": "stream",
     "text": [
      "/var/folders/6p/h0sr07r51_qcbxx4mdpg2cc80000gn/T/ipykernel_82292/508913791.py:2: UserWarning: Could not infer format, so each element will be parsed individually, falling back to `dateutil`. To ensure parsing is consistent and as-expected, please specify a format.\n",
      "  all_services_price_history_df['Date'] = pd.to_datetime(all_services_price_history_df['Date'], errors='coerce')\n"
     ]
    }
   ],
   "source": [
    "# Convert \"Date\" to datetime using the correct format\n",
    "all_services_price_history_df['Date'] = pd.to_datetime(all_services_price_history_df['Date'], errors='coerce')\n",
    "\n",
    "# Drop any rows with missing subscription prices\n",
    "all_services_price_history_df.dropna(subset=['Subscription Price'], inplace=True)"
   ]
  },
  {
   "cell_type": "code",
   "execution_count": 48,
   "id": "f08ba97b-ac43-4431-9760-849cb39a12e9",
   "metadata": {},
   "outputs": [],
   "source": [
    "# Standardize column names\n",
    "amazon_prime_df.columns = amazon_prime_df.columns.str.strip().str.lower().str.replace(' ', '_')\n",
    "disney_plus_df.columns = disney_plus_df.columns.str.strip().str.lower().str.replace(' ', '_')\n",
    "hulu_df.columns = hulu_df.columns.str.strip().str.lower().str.replace(' ', '_')\n",
    "\n",
    "# Drop duplicates\n",
    "amazon_prime_df.drop_duplicates(subset=['title'], inplace=True)\n",
    "disney_plus_df.drop_duplicates(subset=['title'], inplace=True)\n",
    "hulu_df.drop_duplicates(subset=['title'], inplace=True)"
   ]
  },
  {
   "cell_type": "code",
   "execution_count": 49,
   "id": "8d31f7b7-5931-422b-80fa-3cd50e629e38",
   "metadata": {},
   "outputs": [],
   "source": [
    "# Convert ratings to numeric\n",
    "imdb_ratings_df['averageRating'] = pd.to_numeric(imdb_ratings_df['averageRating'], errors='coerce')\n",
    "\n",
    "# Drop duplicates\n",
    "imdb_movies_df.drop_duplicates(subset=['Title'], inplace=True)"
   ]
  },
  {
   "cell_type": "code",
   "execution_count": 50,
   "id": "709384f4-f4c4-46ac-bdba-0ec926601f41",
   "metadata": {},
   "outputs": [],
   "source": [
    "# Standardize \"listed_in\" by splitting genres\n",
    "netflix_titles_df['listed_in'] = netflix_titles_df['listed_in'].str.split(',')\n",
    "\n",
    "# Drop duplicates\n",
    "netflix_titles_df.drop_duplicates(subset=['title'], inplace=True)"
   ]
  },
  {
   "cell_type": "code",
   "execution_count": 51,
   "id": "4846098b-49c0-4bee-8efc-8e8b90f46bb3",
   "metadata": {},
   "outputs": [],
   "source": [
    "# Save cleaned datasets\n",
    "movies_df.to_csv('data/cleaned_MoviesOnStreamingPlatforms.csv', index=False)\n",
    "netflix_df.to_csv('data/cleaned_NetflixDataset.csv', index=False)\n",
    "netflix_tv_df.to_csv('data/cleaned_NetflixTVShowsMovies.csv', index=False)\n",
    "netflix_userbase_df.to_csv('data/cleaned_NetflixUserbase.csv', index=False)\n",
    "all_services_price_history_df.to_csv('data/cleaned_AllServicesPriceHistory.csv', index=False)\n",
    "amazon_prime_df.to_csv('data/cleaned_AmazonPrimeTitles.csv', index=False)\n",
    "disney_plus_df.to_csv('data/cleaned_DisneyPlusTitles.csv', index=False)\n",
    "hulu_df.to_csv('data/cleaned_HuluTitles.csv', index=False)\n",
    "imdb_movies_df.to_csv('data/cleaned_IMDbMovies.csv', index=False)\n",
    "imdb_ratings_df.to_csv('data/cleaned_IMDbRatings.tsv', sep='\\t', index=False)\n",
    "netflix_titles_df.to_csv('data/cleaned_NetflixTitles2.csv', index=False)"
   ]
  }
 ],
 "metadata": {
  "kernelspec": {
   "display_name": "Python 3 (ipykernel)",
   "language": "python",
   "name": "python3"
  },
  "language_info": {
   "codemirror_mode": {
    "name": "ipython",
    "version": 3
   },
   "file_extension": ".py",
   "mimetype": "text/x-python",
   "name": "python",
   "nbconvert_exporter": "python",
   "pygments_lexer": "ipython3",
   "version": "3.10.14"
  }
 },
 "nbformat": 4,
 "nbformat_minor": 5
}
